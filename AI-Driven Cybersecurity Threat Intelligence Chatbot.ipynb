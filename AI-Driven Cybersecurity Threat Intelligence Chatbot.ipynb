{
  "cells": [
    {
      "cell_type": "markdown",
      "source": [
        "# AI-Driven Cybersecurity Threat Intelligence Chatbot"
      ],
      "metadata": {
        "id": "_d1IpQM-eyPW"
      }
    },
    {
      "cell_type": "markdown",
      "metadata": {
        "id": "FuEzLIc1uFF_"
      },
      "source": [
        "# Create a Threat Knowledge Base"
      ]
    },
    {
      "cell_type": "code",
      "execution_count": 1,
      "metadata": {
        "colab": {
          "base_uri": "https://localhost:8080/"
        },
        "id": "jHN2HRgwxFQS",
        "outputId": "7c49b9c1-3063-4a44-a827-efb91894d373"
      },
      "outputs": [
        {
          "output_type": "stream",
          "name": "stdout",
          "text": [
            "[{'name': 'Phishing', 'description': 'Phishing is a form of cyberattack where attackers impersonate legitimate institutions to trick individuals into providing sensitive information like passwords or credit card numbers.', 'indicators': ['fake email', 'suspicious link', 'login prompt', 'account verification request'], 'actions': \"Verify the sender's email address, do not click on suspicious links, and report phishing attempts to IT or cybersecurity team.\"}, {'name': 'Ransomware', 'description': \"Ransomware is malicious software that encrypts a user's data and demands a ransom for decryption.\", 'indicators': ['encrypted files', 'ransom demand', 'payment in cryptocurrency', 'restricted access to data'], 'actions': 'Regularly back up data, use antivirus software, avoid downloading unknown attachments, and keep systems updated.'}, {'name': 'DDoS Attack', 'description': 'A Distributed Denial of Service (DDoS) attack involves overwhelming a system, network, or website with traffic, causing it to slow down or crash.', 'indicators': ['high traffic', 'service unavailability', 'server overload'], 'actions': 'Use a Content Delivery Network (CDN), implement rate limiting, and monitor network traffic for unusual spikes.'}, {'name': 'SQL Injection', 'description': \"SQL Injection is a code injection technique that exploits a vulnerability in an application's software to manipulate database queries.\", 'indicators': ['unexpected database error', 'access to unauthorized data', \"special characters in input fields like ';', '--'\"], 'actions': 'Sanitize and validate all user inputs, use parameterized queries, and employ web application firewalls to block malicious queries.'}, {'name': 'Malware', 'description': 'Malware is software specifically designed to disrupt, damage, or gain unauthorized access to a computer system.', 'indicators': ['slow performance', 'unexpected pop-ups', 'new unknown programs'], 'actions': 'Avoid downloading files from untrusted sources, install antivirus software, and keep operating systems updated.'}, {'name': 'Brute Force Attack', 'description': \"A brute force attack attempts to guess a user's credentials through repeated trial and error.\", 'indicators': ['multiple login attempts', 'account lockouts', 'suspicious login location'], 'actions': 'Use strong passwords, enable account lockout policies, and use multi-factor authentication (MFA) where possible.'}, {'name': 'Data Breach', 'description': 'A data breach is the unauthorized access and exposure of sensitive data to external parties.', 'indicators': ['unauthorized access', 'exposed data', 'sensitive information leak'], 'actions': 'Regularly audit access permissions, employ data encryption, and monitor access logs for unusual activity.'}, {'name': 'Insider Threat', 'description': 'An insider threat involves a trusted individual within the organization who intentionally or unintentionally compromises security.', 'indicators': ['access to restricted data', 'suspicious download activity', 'unusual access patterns'], 'actions': 'Limit access to sensitive data, monitor employee activities, and set up alerts for unusual activity patterns.'}, {'name': 'Zero-Day Vulnerability', 'description': 'A zero-day vulnerability is an unknown software flaw that attackers exploit before a fix is available.', 'indicators': ['exploited software bugs', 'unavailable patch', 'unknown vulnerability'], 'actions': 'Regularly update software, employ endpoint protection, and monitor for unusual behaviors.'}, {'name': 'Social Engineering', 'description': 'Social engineering is a manipulation technique where attackers trick individuals into providing sensitive information.', 'indicators': ['manipulation attempts', 'unsolicited requests for sensitive data', 'imposter impersonation'], 'actions': 'Train employees to recognize social engineering attempts, verify identities before sharing sensitive information, and avoid sharing information over unsecured channels.'}]\n"
          ]
        }
      ],
      "source": [
        "import json\n",
        "\n",
        "# Corrected JSON data for threats\n",
        "threats_data = [\n",
        "    {\n",
        "        \"name\": \"Phishing\",\n",
        "        \"description\": \"Phishing is a form of cyberattack where attackers impersonate legitimate institutions to trick individuals into providing sensitive information like passwords or credit card numbers.\",\n",
        "        \"indicators\": [\"fake email\", \"suspicious link\", \"login prompt\", \"account verification request\"],\n",
        "        \"actions\": \"Verify the sender's email address, do not click on suspicious links, and report phishing attempts to IT or cybersecurity team.\"\n",
        "    },\n",
        "    {\n",
        "        \"name\": \"Ransomware\",\n",
        "        \"description\": \"Ransomware is malicious software that encrypts a user's data and demands a ransom for decryption.\",\n",
        "        \"indicators\": [\"encrypted files\", \"ransom demand\", \"payment in cryptocurrency\", \"restricted access to data\"],\n",
        "        \"actions\": \"Regularly back up data, use antivirus software, avoid downloading unknown attachments, and keep systems updated.\"\n",
        "    },\n",
        "    {\n",
        "        \"name\": \"DDoS Attack\",\n",
        "        \"description\": \"A Distributed Denial of Service (DDoS) attack involves overwhelming a system, network, or website with traffic, causing it to slow down or crash.\",\n",
        "        \"indicators\": [\"high traffic\", \"service unavailability\", \"server overload\"],\n",
        "        \"actions\": \"Use a Content Delivery Network (CDN), implement rate limiting, and monitor network traffic for unusual spikes.\"\n",
        "    },\n",
        "    {\n",
        "        \"name\": \"SQL Injection\",\n",
        "        \"description\": \"SQL Injection is a code injection technique that exploits a vulnerability in an application's software to manipulate database queries.\",\n",
        "        \"indicators\": [\"unexpected database error\", \"access to unauthorized data\", \"special characters in input fields like ';', '--'\"],\n",
        "        \"actions\": \"Sanitize and validate all user inputs, use parameterized queries, and employ web application firewalls to block malicious queries.\"\n",
        "    },\n",
        "    {\n",
        "        \"name\": \"Malware\",\n",
        "        \"description\": \"Malware is software specifically designed to disrupt, damage, or gain unauthorized access to a computer system.\",\n",
        "        \"indicators\": [\"slow performance\", \"unexpected pop-ups\", \"new unknown programs\"],\n",
        "        \"actions\": \"Avoid downloading files from untrusted sources, install antivirus software, and keep operating systems updated.\"\n",
        "    },\n",
        "    {\n",
        "        \"name\": \"Brute Force Attack\",\n",
        "        \"description\": \"A brute force attack attempts to guess a user's credentials through repeated trial and error.\",\n",
        "        \"indicators\": [\"multiple login attempts\", \"account lockouts\", \"suspicious login location\"],\n",
        "        \"actions\": \"Use strong passwords, enable account lockout policies, and use multi-factor authentication (MFA) where possible.\"\n",
        "    },\n",
        "    {\n",
        "        \"name\": \"Data Breach\",\n",
        "        \"description\": \"A data breach is the unauthorized access and exposure of sensitive data to external parties.\",\n",
        "        \"indicators\": [\"unauthorized access\", \"exposed data\", \"sensitive information leak\"],\n",
        "        \"actions\": \"Regularly audit access permissions, employ data encryption, and monitor access logs for unusual activity.\"\n",
        "    },\n",
        "    {\n",
        "        \"name\": \"Insider Threat\",\n",
        "        \"description\": \"An insider threat involves a trusted individual within the organization who intentionally or unintentionally compromises security.\",\n",
        "        \"indicators\": [\"access to restricted data\", \"suspicious download activity\", \"unusual access patterns\"],\n",
        "        \"actions\": \"Limit access to sensitive data, monitor employee activities, and set up alerts for unusual activity patterns.\"\n",
        "    },\n",
        "    {\n",
        "        \"name\": \"Zero-Day Vulnerability\",\n",
        "        \"description\": \"A zero-day vulnerability is an unknown software flaw that attackers exploit before a fix is available.\",\n",
        "        \"indicators\": [\"exploited software bugs\", \"unavailable patch\", \"unknown vulnerability\"],\n",
        "        \"actions\": \"Regularly update software, employ endpoint protection, and monitor for unusual behaviors.\"\n",
        "    },\n",
        "    {\n",
        "        \"name\": \"Social Engineering\",\n",
        "        \"description\": \"Social engineering is a manipulation technique where attackers trick individuals into providing sensitive information.\",\n",
        "        \"indicators\": [\"manipulation attempts\", \"unsolicited requests for sensitive data\", \"imposter impersonation\"],\n",
        "        \"actions\": \"Train employees to recognize social engineering attempts, verify identities before sharing sensitive information, and avoid sharing information over unsecured channels.\"\n",
        "    }\n",
        "]\n",
        "\n",
        "# Write JSON data to a file\n",
        "with open(\"threats.json\", \"w\") as file:\n",
        "    json.dump(threats_data, file, indent=4)\n",
        "\n",
        "# Load and read the file to verify\n",
        "with open(\"threats.json\", \"r\") as file:\n",
        "    threats_db = json.load(file)\n",
        "    print(threats_db)\n"
      ]
    },
    {
      "cell_type": "markdown",
      "metadata": {
        "id": "BxEVYUu6uoHz"
      },
      "source": [
        "# Load the Threat Knowledge Base"
      ]
    },
    {
      "cell_type": "code",
      "execution_count": 2,
      "metadata": {
        "id": "dwc59dcyk87n"
      },
      "outputs": [],
      "source": [
        "import json\n",
        "\n",
        "# Load the JSON database\n",
        "with open(\"threats.json\", \"r\") as file:\n",
        "    threats_db = json.load(file)"
      ]
    },
    {
      "cell_type": "code",
      "execution_count": 3,
      "metadata": {
        "id": "xstmEcuilOAT"
      },
      "outputs": [],
      "source": [
        "# Function to detect a threat based on user input\n",
        "def detect_threat(user_input):\n",
        "    # Check if any indicator keywords are present in the user input\n",
        "    for threat in threats_db:\n",
        "        for indicator in threat[\"indicators\"]:\n",
        "            if indicator in user_input.lower():\n",
        "                return threat\n",
        "    return None\n",
        "\n",
        "# Function to respond with details about the detected threat\n",
        "def respond_to_threat(threat):\n",
        "    response = f\"**Threat Detected**: {threat['name']}\\n\\n\" \\\n",
        "               f\"**Description**: {threat['description']}\\n\\n\" \\\n",
        "               f\"**Recommended Actions**: {threat['actions']}\"\n",
        "    return response"
      ]
    },
    {
      "cell_type": "code",
      "execution_count": 4,
      "metadata": {
        "colab": {
          "base_uri": "https://localhost:8080/"
        },
        "id": "CLw7zf8HmulC",
        "outputId": "45c62f5a-697e-4464-e7ea-c05bfa8d24a0"
      },
      "outputs": [
        {
          "output_type": "stream",
          "name": "stdout",
          "text": [
            "**Threat Detected**: Phishing\n",
            "**Description**: Phishing is a form of cyberattack where attackers impersonate legitimate institutions to trick individuals into providing sensitive information like passwords or credit card numbers.\n",
            "**Indicators**: fake email, suspicious link, login prompt, account verification request\n",
            "**Recommended Actions**: Verify the sender's email address, do not click on suspicious links, and report phishing attempts to IT or cybersecurity team.\n"
          ]
        }
      ],
      "source": [
        "# function to display a threat\n",
        "def display_threat_info(threat_name):\n",
        "    for threat in threats_db:\n",
        "        if threat[\"name\"].lower() == threat_name.lower():\n",
        "            print(f\"**Threat Detected**: {threat['name']}\")\n",
        "            print(f\"**Description**: {threat['description']}\")\n",
        "            print(f\"**Indicators**: {', '.join(threat['indicators'])}\")\n",
        "            print(f\"**Recommended Actions**: {threat['actions']}\")\n",
        "            return\n",
        "    print(\"Threat not found in the database.\")\n",
        "\n",
        "# Example usage\n",
        "display_threat_info(\"Phishing\")"
      ]
    },
    {
      "cell_type": "markdown",
      "metadata": {
        "id": "OGGAhP_ku8Vf"
      },
      "source": [
        "# Create the Chatbot Logic"
      ]
    },
    {
      "cell_type": "code",
      "execution_count": 5,
      "metadata": {
        "colab": {
          "base_uri": "https://localhost:8080/"
        },
        "id": "IhkDXH1jsQbY",
        "outputId": "4975c75f-3451-4d92-9bf8-68af59560177"
      },
      "outputs": [
        {
          "output_type": "stream",
          "name": "stdout",
          "text": [
            "Describe the issue (or type 'Exit' to quit):  I received a fake email with a suspicious link asking for my password\n",
            "**Threat Detected**: Phishing\n",
            "\n",
            "**Description**: Phishing is a form of cyberattack where attackers impersonate legitimate institutions to trick individuals into providing sensitive information like passwords or credit card numbers.\n",
            "\n",
            "**Recommended Actions**: Verify the sender's email address, do not click on suspicious links, and report phishing attempts to IT or cybersecurity team.\n",
            "Describe the issue (or type 'Exit' to quit): Exit\n",
            "Goodbye!\n"
          ]
        }
      ],
      "source": [
        "\n",
        "# Main loop for console-based chatbot interaction\n",
        "while True:\n",
        "    user_input = input(\"Describe the issue (or type 'Exit' to quit): \")\n",
        "    if user_input.lower() == \"exit\":\n",
        "        print(\"Goodbye!\")\n",
        "        break\n",
        "\n",
        "    threat = detect_threat(user_input)\n",
        "    if threat:\n",
        "        print(respond_to_threat(threat))\n",
        "    else:\n",
        "        print(\"No known threat detected.\")\n"
      ]
    },
    {
      "cell_type": "markdown",
      "metadata": {
        "id": "qz8OBY55vC1N"
      },
      "source": [
        "# Build the User Interface with Tkinter"
      ]
    },
    {
      "cell_type": "code",
      "execution_count": 6,
      "metadata": {
        "colab": {
          "base_uri": "https://localhost:8080/",
          "height": 1000
        },
        "id": "hKoHH7B7qFYe",
        "outputId": "1f4274f3-ef6c-4629-f7f5-9c1d748714db"
      },
      "outputs": [
        {
          "output_type": "stream",
          "name": "stdout",
          "text": [
            "Collecting gradio\n",
            "  Downloading gradio-5.29.0-py3-none-any.whl.metadata (16 kB)\n",
            "Collecting aiofiles<25.0,>=22.0 (from gradio)\n",
            "  Downloading aiofiles-24.1.0-py3-none-any.whl.metadata (10 kB)\n",
            "Requirement already satisfied: anyio<5.0,>=3.0 in /usr/local/lib/python3.11/dist-packages (from gradio) (4.9.0)\n",
            "Collecting fastapi<1.0,>=0.115.2 (from gradio)\n",
            "  Downloading fastapi-0.115.12-py3-none-any.whl.metadata (27 kB)\n",
            "Collecting ffmpy (from gradio)\n",
            "  Downloading ffmpy-0.5.0-py3-none-any.whl.metadata (3.0 kB)\n",
            "Collecting gradio-client==1.10.0 (from gradio)\n",
            "  Downloading gradio_client-1.10.0-py3-none-any.whl.metadata (7.1 kB)\n",
            "Collecting groovy~=0.1 (from gradio)\n",
            "  Downloading groovy-0.1.2-py3-none-any.whl.metadata (6.1 kB)\n",
            "Requirement already satisfied: httpx>=0.24.1 in /usr/local/lib/python3.11/dist-packages (from gradio) (0.28.1)\n",
            "Requirement already satisfied: huggingface-hub>=0.28.1 in /usr/local/lib/python3.11/dist-packages (from gradio) (0.30.2)\n",
            "Requirement already satisfied: jinja2<4.0 in /usr/local/lib/python3.11/dist-packages (from gradio) (3.1.6)\n",
            "Requirement already satisfied: markupsafe<4.0,>=2.0 in /usr/local/lib/python3.11/dist-packages (from gradio) (3.0.2)\n",
            "Requirement already satisfied: numpy<3.0,>=1.0 in /usr/local/lib/python3.11/dist-packages (from gradio) (2.0.2)\n",
            "Requirement already satisfied: orjson~=3.0 in /usr/local/lib/python3.11/dist-packages (from gradio) (3.10.18)\n",
            "Requirement already satisfied: packaging in /usr/local/lib/python3.11/dist-packages (from gradio) (24.2)\n",
            "Requirement already satisfied: pandas<3.0,>=1.0 in /usr/local/lib/python3.11/dist-packages (from gradio) (2.2.2)\n",
            "Requirement already satisfied: pillow<12.0,>=8.0 in /usr/local/lib/python3.11/dist-packages (from gradio) (11.2.1)\n",
            "Requirement already satisfied: pydantic<2.12,>=2.0 in /usr/local/lib/python3.11/dist-packages (from gradio) (2.11.4)\n",
            "Collecting pydub (from gradio)\n",
            "  Downloading pydub-0.25.1-py2.py3-none-any.whl.metadata (1.4 kB)\n",
            "Collecting python-multipart>=0.0.18 (from gradio)\n",
            "  Downloading python_multipart-0.0.20-py3-none-any.whl.metadata (1.8 kB)\n",
            "Requirement already satisfied: pyyaml<7.0,>=5.0 in /usr/local/lib/python3.11/dist-packages (from gradio) (6.0.2)\n",
            "Collecting ruff>=0.9.3 (from gradio)\n",
            "  Downloading ruff-0.11.8-py3-none-manylinux_2_17_x86_64.manylinux2014_x86_64.whl.metadata (25 kB)\n",
            "Collecting safehttpx<0.2.0,>=0.1.6 (from gradio)\n",
            "  Downloading safehttpx-0.1.6-py3-none-any.whl.metadata (4.2 kB)\n",
            "Collecting semantic-version~=2.0 (from gradio)\n",
            "  Downloading semantic_version-2.10.0-py2.py3-none-any.whl.metadata (9.7 kB)\n",
            "Collecting starlette<1.0,>=0.40.0 (from gradio)\n",
            "  Downloading starlette-0.46.2-py3-none-any.whl.metadata (6.2 kB)\n",
            "Collecting tomlkit<0.14.0,>=0.12.0 (from gradio)\n",
            "  Downloading tomlkit-0.13.2-py3-none-any.whl.metadata (2.7 kB)\n",
            "Requirement already satisfied: typer<1.0,>=0.12 in /usr/local/lib/python3.11/dist-packages (from gradio) (0.15.3)\n",
            "Requirement already satisfied: typing-extensions~=4.0 in /usr/local/lib/python3.11/dist-packages (from gradio) (4.13.2)\n",
            "Collecting uvicorn>=0.14.0 (from gradio)\n",
            "  Downloading uvicorn-0.34.2-py3-none-any.whl.metadata (6.5 kB)\n",
            "Requirement already satisfied: fsspec in /usr/local/lib/python3.11/dist-packages (from gradio-client==1.10.0->gradio) (2025.3.2)\n",
            "Requirement already satisfied: websockets<16.0,>=10.0 in /usr/local/lib/python3.11/dist-packages (from gradio-client==1.10.0->gradio) (15.0.1)\n",
            "Requirement already satisfied: idna>=2.8 in /usr/local/lib/python3.11/dist-packages (from anyio<5.0,>=3.0->gradio) (3.10)\n",
            "Requirement already satisfied: sniffio>=1.1 in /usr/local/lib/python3.11/dist-packages (from anyio<5.0,>=3.0->gradio) (1.3.1)\n",
            "Requirement already satisfied: certifi in /usr/local/lib/python3.11/dist-packages (from httpx>=0.24.1->gradio) (2025.4.26)\n",
            "Requirement already satisfied: httpcore==1.* in /usr/local/lib/python3.11/dist-packages (from httpx>=0.24.1->gradio) (1.0.9)\n",
            "Requirement already satisfied: h11>=0.16 in /usr/local/lib/python3.11/dist-packages (from httpcore==1.*->httpx>=0.24.1->gradio) (0.16.0)\n",
            "Requirement already satisfied: filelock in /usr/local/lib/python3.11/dist-packages (from huggingface-hub>=0.28.1->gradio) (3.18.0)\n",
            "Requirement already satisfied: requests in /usr/local/lib/python3.11/dist-packages (from huggingface-hub>=0.28.1->gradio) (2.32.3)\n",
            "Requirement already satisfied: tqdm>=4.42.1 in /usr/local/lib/python3.11/dist-packages (from huggingface-hub>=0.28.1->gradio) (4.67.1)\n",
            "Requirement already satisfied: python-dateutil>=2.8.2 in /usr/local/lib/python3.11/dist-packages (from pandas<3.0,>=1.0->gradio) (2.9.0.post0)\n",
            "Requirement already satisfied: pytz>=2020.1 in /usr/local/lib/python3.11/dist-packages (from pandas<3.0,>=1.0->gradio) (2025.2)\n",
            "Requirement already satisfied: tzdata>=2022.7 in /usr/local/lib/python3.11/dist-packages (from pandas<3.0,>=1.0->gradio) (2025.2)\n",
            "Requirement already satisfied: annotated-types>=0.6.0 in /usr/local/lib/python3.11/dist-packages (from pydantic<2.12,>=2.0->gradio) (0.7.0)\n",
            "Requirement already satisfied: pydantic-core==2.33.2 in /usr/local/lib/python3.11/dist-packages (from pydantic<2.12,>=2.0->gradio) (2.33.2)\n",
            "Requirement already satisfied: typing-inspection>=0.4.0 in /usr/local/lib/python3.11/dist-packages (from pydantic<2.12,>=2.0->gradio) (0.4.0)\n",
            "Requirement already satisfied: click>=8.0.0 in /usr/local/lib/python3.11/dist-packages (from typer<1.0,>=0.12->gradio) (8.1.8)\n",
            "Requirement already satisfied: shellingham>=1.3.0 in /usr/local/lib/python3.11/dist-packages (from typer<1.0,>=0.12->gradio) (1.5.4)\n",
            "Requirement already satisfied: rich>=10.11.0 in /usr/local/lib/python3.11/dist-packages (from typer<1.0,>=0.12->gradio) (13.9.4)\n",
            "Requirement already satisfied: six>=1.5 in /usr/local/lib/python3.11/dist-packages (from python-dateutil>=2.8.2->pandas<3.0,>=1.0->gradio) (1.17.0)\n",
            "Requirement already satisfied: markdown-it-py>=2.2.0 in /usr/local/lib/python3.11/dist-packages (from rich>=10.11.0->typer<1.0,>=0.12->gradio) (3.0.0)\n",
            "Requirement already satisfied: pygments<3.0.0,>=2.13.0 in /usr/local/lib/python3.11/dist-packages (from rich>=10.11.0->typer<1.0,>=0.12->gradio) (2.19.1)\n",
            "Requirement already satisfied: charset-normalizer<4,>=2 in /usr/local/lib/python3.11/dist-packages (from requests->huggingface-hub>=0.28.1->gradio) (3.4.1)\n",
            "Requirement already satisfied: urllib3<3,>=1.21.1 in /usr/local/lib/python3.11/dist-packages (from requests->huggingface-hub>=0.28.1->gradio) (2.4.0)\n",
            "Requirement already satisfied: mdurl~=0.1 in /usr/local/lib/python3.11/dist-packages (from markdown-it-py>=2.2.0->rich>=10.11.0->typer<1.0,>=0.12->gradio) (0.1.2)\n",
            "Downloading gradio-5.29.0-py3-none-any.whl (54.1 MB)\n",
            "\u001b[2K   \u001b[90m━━━━━━━━━━━━━━━━━━━━━━━━━━━━━━━━━━━━━━━━\u001b[0m \u001b[32m54.1/54.1 MB\u001b[0m \u001b[31m19.5 MB/s\u001b[0m eta \u001b[36m0:00:00\u001b[0m\n",
            "\u001b[?25hDownloading gradio_client-1.10.0-py3-none-any.whl (322 kB)\n",
            "\u001b[2K   \u001b[90m━━━━━━━━━━━━━━━━━━━━━━━━━━━━━━━━━━━━━━━━\u001b[0m \u001b[32m322.9/322.9 kB\u001b[0m \u001b[31m23.9 MB/s\u001b[0m eta \u001b[36m0:00:00\u001b[0m\n",
            "\u001b[?25hDownloading aiofiles-24.1.0-py3-none-any.whl (15 kB)\n",
            "Downloading fastapi-0.115.12-py3-none-any.whl (95 kB)\n",
            "\u001b[2K   \u001b[90m━━━━━━━━━━━━━━━━━━━━━━━━━━━━━━━━━━━━━━━━\u001b[0m \u001b[32m95.2/95.2 kB\u001b[0m \u001b[31m7.9 MB/s\u001b[0m eta \u001b[36m0:00:00\u001b[0m\n",
            "\u001b[?25hDownloading groovy-0.1.2-py3-none-any.whl (14 kB)\n",
            "Downloading python_multipart-0.0.20-py3-none-any.whl (24 kB)\n",
            "Downloading ruff-0.11.8-py3-none-manylinux_2_17_x86_64.manylinux2014_x86_64.whl (11.5 MB)\n",
            "\u001b[2K   \u001b[90m━━━━━━━━━━━━━━━━━━━━━━━━━━━━━━━━━━━━━━━━\u001b[0m \u001b[32m11.5/11.5 MB\u001b[0m \u001b[31m105.4 MB/s\u001b[0m eta \u001b[36m0:00:00\u001b[0m\n",
            "\u001b[?25hDownloading safehttpx-0.1.6-py3-none-any.whl (8.7 kB)\n",
            "Downloading semantic_version-2.10.0-py2.py3-none-any.whl (15 kB)\n",
            "Downloading starlette-0.46.2-py3-none-any.whl (72 kB)\n",
            "\u001b[2K   \u001b[90m━━━━━━━━━━━━━━━━━━━━━━━━━━━━━━━━━━━━━━━━\u001b[0m \u001b[32m72.0/72.0 kB\u001b[0m \u001b[31m7.0 MB/s\u001b[0m eta \u001b[36m0:00:00\u001b[0m\n",
            "\u001b[?25hDownloading tomlkit-0.13.2-py3-none-any.whl (37 kB)\n",
            "Downloading uvicorn-0.34.2-py3-none-any.whl (62 kB)\n",
            "\u001b[2K   \u001b[90m━━━━━━━━━━━━━━━━━━━━━━━━━━━━━━━━━━━━━━━━\u001b[0m \u001b[32m62.5/62.5 kB\u001b[0m \u001b[31m5.7 MB/s\u001b[0m eta \u001b[36m0:00:00\u001b[0m\n",
            "\u001b[?25hDownloading ffmpy-0.5.0-py3-none-any.whl (6.0 kB)\n",
            "Downloading pydub-0.25.1-py2.py3-none-any.whl (32 kB)\n",
            "Installing collected packages: pydub, uvicorn, tomlkit, semantic-version, ruff, python-multipart, groovy, ffmpy, aiofiles, starlette, safehttpx, gradio-client, fastapi, gradio\n",
            "Successfully installed aiofiles-24.1.0 fastapi-0.115.12 ffmpy-0.5.0 gradio-5.29.0 gradio-client-1.10.0 groovy-0.1.2 pydub-0.25.1 python-multipart-0.0.20 ruff-0.11.8 safehttpx-0.1.6 semantic-version-2.10.0 starlette-0.46.2 tomlkit-0.13.2 uvicorn-0.34.2\n",
            "It looks like you are running Gradio on a hosted a Jupyter notebook. For the Gradio app to work, sharing must be enabled. Automatically setting `share=True` (you can turn this off by setting `share=False` in `launch()` explicitly).\n",
            "\n",
            "Colab notebook detected. To show errors in colab notebook, set debug=True in launch()\n",
            "* Running on public URL: https://d741341c4fe07f4459.gradio.live\n",
            "\n",
            "This share link expires in 1 week. For free permanent hosting and GPU upgrades, run `gradio deploy` from the terminal in the working directory to deploy to Hugging Face Spaces (https://huggingface.co/spaces)\n"
          ]
        },
        {
          "output_type": "display_data",
          "data": {
            "text/plain": [
              "<IPython.core.display.HTML object>"
            ],
            "text/html": [
              "<div><iframe src=\"https://d741341c4fe07f4459.gradio.live\" width=\"100%\" height=\"500\" allow=\"autoplay; camera; microphone; clipboard-read; clipboard-write;\" frameborder=\"0\" allowfullscreen></iframe></div>"
            ]
          },
          "metadata": {}
        },
        {
          "output_type": "execute_result",
          "data": {
            "text/plain": []
          },
          "metadata": {},
          "execution_count": 6
        }
      ],
      "source": [
        "# Install Gradio\n",
        "!pip install gradio\n",
        "\n",
        "# Import required libraries\n",
        "import json\n",
        "import gradio as gr\n",
        "\n",
        "# Load threat knowledge base from JSON file\n",
        "with open(\"threats.json\", \"r\") as f:\n",
        "    threats_db = json.load(f)\n",
        "\n",
        "# Function to detect a threat based on user input\n",
        "def detect_threat(user_input):\n",
        "    for threat in threats_db:\n",
        "        for indicator in threat[\"indicators\"]:\n",
        "            if indicator in user_input.lower():\n",
        "                return threat\n",
        "    return None\n",
        "\n",
        "# Function to generate a response based on the detected threat\n",
        "def respond_to_threat(threat):\n",
        "    response = f\"**Threat Detected**: {threat['name']}\\n\\n\" \\\n",
        "               f\"**Description**: {threat['description']}\\n\\n\" \\\n",
        "               f\"**Recommended Actions**: {threat['actions']}\"\n",
        "    return response\n",
        "\n",
        "# Gradio function\n",
        "def chatbot(user_input):\n",
        "    threat = detect_threat(user_input)\n",
        "    if threat:\n",
        "        return respond_to_threat(threat)\n",
        "    else:\n",
        "        return \"No known threat detected.\"\n",
        "\n",
        "# Launch Gradio interface\n",
        "interface = gr.Interface(fn=chatbot, inputs=\"text\", outputs=\"text\", title=\"Cybersecurity Threat Intelligence Chatbot\")\n",
        "interface.launch()\n"
      ]
    },
    {
      "cell_type": "code",
      "source": [],
      "metadata": {
        "id": "IFrYG2-q2AIM"
      },
      "execution_count": null,
      "outputs": []
    }
  ],
  "metadata": {
    "colab": {
      "provenance": []
    },
    "kernelspec": {
      "display_name": "Python 3",
      "name": "python3"
    },
    "language_info": {
      "name": "python"
    }
  },
  "nbformat": 4,
  "nbformat_minor": 0
}